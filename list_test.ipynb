{
 "metadata": {
  "language_info": {
   "codemirror_mode": {
    "name": "ipython",
    "version": 3
   },
   "file_extension": ".py",
   "mimetype": "text/x-python",
   "name": "python",
   "nbconvert_exporter": "python",
   "pygments_lexer": "ipython3",
   "version": "3.9.5"
  },
  "orig_nbformat": 2,
  "kernelspec": {
   "name": "python395jvsc74a57bd00ac516125b3ee16d4eaa41f008fade7bad50b808bd1b6d74d2e8ae0015ba9066",
   "display_name": "Python 3.9.5 64-bit"
  },
  "metadata": {
   "interpreter": {
    "hash": "0ac516125b3ee16d4eaa41f008fade7bad50b808bd1b6d74d2e8ae0015ba9066"
   }
  }
 },
 "nbformat": 4,
 "nbformat_minor": 2,
 "cells": [
  {
   "cell_type": "code",
   "execution_count": 46,
   "metadata": {},
   "outputs": [
    {
     "output_type": "stream",
     "name": "stdout",
     "text": [
      "[0, 4, 16, 36, 64, 100, 144, 196, 256, 324]\n"
     ]
    }
   ],
   "source": [
    "arr = []\n",
    "for i in range(0,20,2):\n",
    "    arr.append(i*i)\n",
    "print(arr)"
   ]
  },
  {
   "cell_type": "code",
   "execution_count": 47,
   "metadata": {},
   "outputs": [
    {
     "output_type": "stream",
     "name": "stdout",
     "text": [
      "[4, 16, 36, 64, 144, 196, 256, 324]\n"
     ]
    }
   ],
   "source": [
    "arr =[ i * i for i in range(0,20,2) if (i*i) % 10 != 0  ]   # 위에 for문을 그대로 리스트 안에 담았슴 / 뒤에는 if 조건문을 걸수 있슴\n",
    "print(arr)"
   ]
  },
  {
   "cell_type": "code",
   "execution_count": 48,
   "metadata": {},
   "outputs": [
    {
     "output_type": "stream",
     "name": "stdout",
     "text": [
      "<class 'list'>\n010\n3825\n4417\n"
     ]
    }
   ],
   "source": [
    "str_s = \"010-3825-4417\"\n",
    "tel = str_s.split(\"-\") # 문자 값을 여러개로 담아야 해서 리스트가 됨\n",
    "print(type(tel))\n",
    "print(tel[0])\n",
    "print(tel[1])\n",
    "print(tel[2])"
   ]
  },
  {
   "cell_type": "code",
   "execution_count": 49,
   "metadata": {},
   "outputs": [
    {
     "output_type": "stream",
     "name": "stdout",
     "text": [
      "<class 'str'>\n2000-10-1\n"
     ]
    }
   ],
   "source": [
    "birth = [\"2000\",\"10\",\"1\"]\n",
    "str_birth = \"-\".join(birth)\n",
    "print(type(str_birth))\n",
    "print(str_birth)                                "
   ]
  },
  {
   "cell_type": "code",
   "execution_count": 50,
   "metadata": {},
   "outputs": [
    {
     "output_type": "stream",
     "name": "stdout",
     "text": [
      "start\n안녕하세요\n안녕하세요\n안녕하세요\nend\n"
     ]
    }
   ],
   "source": [
    "def print_3time():\n",
    "    print(\"안녕하세요\")\n",
    "    print(\"안녕하세요\")\n",
    "    print(\"안녕하세요\")\n",
    "print(\"start\")\n",
    "print_3time() # 매개변수도 없고 넘겨줄값도 없슴 그냥 실행\n",
    "print(\"end\")"
   ]
  },
  {
   "cell_type": "code",
   "execution_count": 51,
   "metadata": {},
   "outputs": [
    {
     "output_type": "stream",
     "name": "stdout",
     "text": [
      "------------\n안녕\n안녕\n안녕\n안녕\n안녕\n────────────\n안녕\n안녕\n안녕\n안녕\n안녕\n안녕\n안녕\n안녕\n안녕\n안녕\n"
     ]
    }
   ],
   "source": [
    "# 매개변수가 있는 함수\n",
    "def print_3time2(value, n=5):    # 기본매개변수를 정해줄 수 있슴\n",
    "    for el in range(n) :\n",
    "        print(value)\n",
    "\n",
    "print(\"------------\")\n",
    "print_3time2(\"안녕\")   #, n=10)   # n=10으로 매개변수 넣어주면 10개로 출력되고 안넣으면 위에 함수에서 정의된 기본매개변수로 나옴\n",
    "print(\"────────────\")\n",
    "print_3time2(\"안녕\", n=10)\n"
   ]
  },
  {
   "cell_type": "code",
   "execution_count": 52,
   "metadata": {},
   "outputs": [
    {
     "output_type": "stream",
     "name": "stdout",
     "text": [
      "10\n"
     ]
    }
   ],
   "source": [
    "\n",
    "print( sum(([1,2,3,4] )) )  # 리스트, 튜플도 가능하지만 for을 돌릴수 없는 값은 계산되지 않음\n",
    "# 갯수 제한이 없는 것을 가변함수임 ex print ( 안에 값을 무한대로 넣을수 있슴print( sum(iter([1,2,3,4] )) )  # 리스트, 튜플도 가능하지만 for을 돌릴수 없는 값은 계산되지 않음\n",
    "# # 갯수 제한이 없는 것을 가변함수임 ex print ( 안에 값을 무한대로 넣을수 있슴)"
   ]
  },
  {
   "cell_type": "code",
   "execution_count": 53,
   "metadata": {},
   "outputs": [
    {
     "output_type": "stream",
     "name": "stdout",
     "text": [
      "시작\n3-4-4-1-3-3-1-7\n끝\n"
     ]
    }
   ],
   "source": [
    "def list_join( s , *v ) : # 첫번째 매개변수의 나머지는 전부 가변매개변수가 됨 / 가변매개변수는 젤 끝에 와야함\n",
    "    # print(type(v),v)\n",
    "    arr = []\n",
    "    for el in v :\n",
    "        arr.append(str(el))\n",
    "    return s.join(arr)\n",
    "    \n",
    "print(\"시작\")\n",
    "result = list_join(\"-\",3,4,4,1,3,3,1,7)\n",
    "print(result)\n",
    "print(\"끝\")"
   ]
  },
  {
   "cell_type": "code",
   "execution_count": 56,
   "metadata": {},
   "outputs": [
    {
     "output_type": "stream",
     "name": "stdout",
     "text": [
      "--------------start\n3628800\nend--------------\n"
     ]
    }
   ],
   "source": [
    "# 리턴이 있는 함수\n",
    "def func(n):\n",
    "    s = 1      # 결과를 저장할 초기값 변수 /  변수선언\n",
    "    for i in range(1,n+1):\n",
    "        s *= i\n",
    "    return s   # 결과 리턴\n",
    "\n",
    "\n",
    "print(\"--------------start\")\n",
    "result = func(10)      # 1 ~ 5까지 곱한 수\n",
    "print(result)\n",
    "print(\"end--------------\")"
   ]
  },
  {
   "cell_type": "code",
   "execution_count": 58,
   "metadata": {},
   "outputs": [
    {
     "output_type": "stream",
     "name": "stdout",
     "text": [
      "--------------start\n[1, 2, 3, 4, 5]\nend--------------\n"
     ]
    }
   ],
   "source": [
    "# 리턴이 있는 함수\n",
    "def func(a):\n",
    "    s = []      # 결과를 저장할 초기값 변수 /  변수선언\n",
    "    for i in range(1,a+1):\n",
    "        s.append(i)\n",
    "    return s   # 결과 리턴\n",
    "\n",
    "\n",
    "print(\"--------------start\")\n",
    "result = func(5)     \n",
    "print(result)\n",
    "print(\"end----------------\")"
   ]
  },
  {
   "cell_type": "code",
   "execution_count": null,
   "metadata": {},
   "outputs": [],
   "source": []
  }
 ]
}