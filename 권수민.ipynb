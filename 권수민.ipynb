{
 "metadata": {
  "language_info": {
   "codemirror_mode": {
    "name": "ipython",
    "version": 3
   },
   "file_extension": ".py",
   "mimetype": "text/x-python",
   "name": "python",
   "nbconvert_exporter": "python",
   "pygments_lexer": "ipython3",
   "version": "3.9.5"
  },
  "orig_nbformat": 2,
  "kernelspec": {
   "name": "python395jvsc74a57bd014a45bbd1fde6f9c12d9788d87373ba2ab5930591be5bbcaddbc076ecdfe1401",
   "display_name": "Python 3.9.5 64-bit"
  },
  "metadata": {
   "interpreter": {
    "hash": "14a45bbd1fde6f9c12d9788d87373ba2ab5930591be5bbcaddbc076ecdfe1401"
   }
  }
 },
 "nbformat": 4,
 "nbformat_minor": 2,
 "cells": [
  {
   "cell_type": "code",
   "execution_count": 2,
   "metadata": {},
   "outputs": [
    {
     "output_type": "stream",
     "name": "stdout",
     "text": [
      "c:\\new\n"
     ]
    }
   ],
   "source": [
    "#[1번]화면에 “c:\\new”를 출력하는 코드를 작성\n",
    "print(\"c:\\\\new\")"
   ]
  },
  {
   "source": [
    "#[2번] 다음 실행결과는 확인하고 정상적으로 실행되도록 코드를 수정하시오.\n",
    "year = '2021'\n",
    "year = int(year) + 1\n",
    "print(year)"
   ],
   "cell_type": "code",
   "metadata": {},
   "execution_count": 3,
   "outputs": [
    {
     "output_type": "stream",
     "name": "stdout",
     "text": [
      "2022\n"
     ]
    }
   ]
  },
  {
   "cell_type": "code",
   "execution_count": 6,
   "metadata": {},
   "outputs": [
    {
     "output_type": "stream",
     "name": "stdout",
     "text": [
      "1170000\n"
     ]
    }
   ],
   "source": [
    "#[3번] tv가 36개월 무이자 할부로 월 32,500에 판매되고 있다. 변수를 사용해서 총금액을 계산해서 출력하는 코드는?\n",
    "money = 32500\n",
    "mon = 36\n",
    "print(money * mon)"
   ]
  },
  {
   "cell_type": "code",
   "execution_count": 9,
   "metadata": {},
   "outputs": [
    {
     "output_type": "stream",
     "name": "stdout",
     "text": [
      "2210\n"
     ]
    }
   ],
   "source": [
    "#[4번] 자동차 번호가 다음과 같을 때 뒤에 4자리만 출력하는 코드는?\n",
    "license_plate = \"24가 2210\"\n",
    "print(license_plate[4:])"
   ]
  },
  {
   "cell_type": "code",
   "execution_count": 10,
   "metadata": {},
   "outputs": [
    {
     "output_type": "stream",
     "name": "stdout",
     "text": [
      "['분노의 질주', '극장판 귀멸의 칼날: 무한열차편', '스파이럴', '미나리']\n"
     ]
    }
   ],
   "source": [
    "#[5번] movie 리스트에 \"미나리\"을 추가하라\n",
    "movie = ['분노의 질주', '극장판 귀멸의 칼날: 무한열차편', '스파이럴']\n",
    "movie.append(\"미나리\")\n",
    "print(movie)"
   ]
  },
  {
   "cell_type": "code",
   "execution_count": 19,
   "metadata": {},
   "outputs": [
    {
     "output_type": "stream",
     "name": "stdout",
     "text": [
      "['분노의 질주', '극장판 귀멸의 칼날: 무한열차편']\n"
     ]
    }
   ],
   "source": [
    "#[6번] movie 리스트에서 '스파이럴'를 삭제하라.\n",
    "del movie[-1]\n",
    "print(movie)"
   ]
  },
  {
   "cell_type": "code",
   "execution_count": 20,
   "metadata": {},
   "outputs": [
    {
     "output_type": "stream",
     "name": "stdout",
     "text": [
      "2\n"
     ]
    }
   ],
   "source": [
    "#[7번] movie 리스트에 저장된 데이터의 갯수를 출력\n",
    "print(len(movie))"
   ]
  },
  {
   "cell_type": "code",
   "execution_count": 24,
   "metadata": {},
   "outputs": [
    {
     "output_type": "stream",
     "name": "stdout",
     "text": [
      "1. 분노의 질주\n2. 극장판 귀멸의 칼날: 무한열차편\n3. 미나리\n"
     ]
    }
   ],
   "source": [
    "#[8번] movie 리스트를 다음과 같이 출력되도록 코드를 작성  179 페이지 참조\n",
    "'''\n",
    "1. 분노의 질주\n",
    "2. 극장판 귀멸의 칼날: 무한열차편\n",
    "3. 미나리\n",
    "'''\n",
    "movie = [\"분노의 질주\", \"극장판 귀멸의 칼날: 무한열차편\", \"미나리\" ]\n",
    "for i in range(len(movie)):\n",
    "    print(\"{}. {}\".format((i+1),movie[i]))"
   ]
  },
  {
   "cell_type": "code",
   "execution_count": 31,
   "metadata": {},
   "outputs": [
    {
     "output_type": "stream",
     "name": "stdout",
     "text": [
      "3.0\n"
     ]
    }
   ],
   "source": [
    "#[9번] 다음 리스트의 평균을 출력하라.\n",
    "nums = [1, 2, 3, 4, 5]\n",
    "nums_avg = (nums[0] + nums[1] +nums[2] +nums[3] +nums[4])/5\n",
    "print(nums_avg)"
   ]
  },
  {
   "cell_type": "code",
   "execution_count": 5,
   "metadata": {},
   "outputs": [
    {
     "output_type": "stream",
     "name": "stdout",
     "text": [
      "[1, 3, 5, 7, 9]\n"
     ]
    }
   ],
   "source": [
    "#[10번] 슬라이싱을 사용해서 홀수만 출력하라.\n",
    "# 결과 : [1, 3, 5, 7, 9]\n",
    "nums = [1, 2, 3, 4, 5, 6, 7, 8, 9, 10]\n",
    "print(nums[0:10:2])"
   ]
  },
  {
   "cell_type": "code",
   "execution_count": 10,
   "metadata": {},
   "outputs": [
    {
     "output_type": "error",
     "ename": "TypeError",
     "evalue": "print_score() missing 2 required positional arguments: 'b' and 'c'",
     "traceback": [
      "\u001b[1;31m---------------------------------------------------------------------------\u001b[0m",
      "\u001b[1;31mTypeError\u001b[0m                                 Traceback (most recent call last)",
      "\u001b[1;32m<ipython-input-10-ce011ea00db2>\u001b[0m in \u001b[0;36m<module>\u001b[1;34m\u001b[0m\n\u001b[0;32m      8\u001b[0m \u001b[1;33m\u001b[0m\u001b[0m\n\u001b[0;32m      9\u001b[0m \u001b[1;33m\u001b[0m\u001b[0m\n\u001b[1;32m---> 10\u001b[1;33m \u001b[0mprint_score\u001b[0m \u001b[1;33m(\u001b[0m\u001b[1;33m[\u001b[0m\u001b[1;36m1\u001b[0m\u001b[1;33m,\u001b[0m \u001b[1;36m2\u001b[0m\u001b[1;33m,\u001b[0m \u001b[1;36m3\u001b[0m\u001b[1;33m]\u001b[0m\u001b[1;33m)\u001b[0m\u001b[1;33m\u001b[0m\u001b[1;33m\u001b[0m\u001b[0m\n\u001b[0m",
      "\u001b[1;31mTypeError\u001b[0m: print_score() missing 2 required positional arguments: 'b' and 'c'"
     ]
    }
   ],
   "source": [
    "#[11번] 성적 리스트를 입력 받아 평균을 출력하는 print_score 함수를 정의하라.\n",
    "#함수선언\n",
    "def print_score(abc):\n",
    "    abc = map(int,input().split())\n",
    "    abc = sum(a,b,c)\n",
    "    avg = abc/3\n",
    "    return avg\n",
    "\n",
    "print_score ([1, 2, 3])"
   ]
  },
  {
   "cell_type": "code",
   "execution_count": 2,
   "metadata": {},
   "outputs": [
    {
     "output_type": "stream",
     "name": "stdout",
     "text": [
      "www.naver.com\n"
     ]
    }
   ],
   "source": [
    "#[12번] 문자열 하나를 입력받아 인터넷 주소를 반환하는 make_url 함수를 정의하라.\n",
    "#함수선언\n",
    "def make_url(a) :\n",
    "    a = \"www.\" + a + \".com\"\n",
    "    return a    \n",
    "\n",
    "make_url(\"naver\")   #실행결과 www.naver.com\n",
    "print(make_url(\"naver\"))"
   ]
  },
  {
   "cell_type": "code",
   "execution_count": null,
   "metadata": {},
   "outputs": [],
   "source": [
    "#[13번] 다음과 같이 날짜를 표현하는 문자열이 있을 때 연도, 월, 일로 나눠보세요.  힌트 : split()\n",
    "''' 실행결과\n",
    "년도: 2020\n",
    "월: 04\n",
    "일: 01\n",
    "'''\n",
    "date = \"2020-05-01\"\n"
   ]
  },
  {
   "cell_type": "code",
   "execution_count": null,
   "metadata": {},
   "outputs": [],
   "source": [
    "#[14번] url 에 저장된 웹 페이지 주소에서 도메인을 출력하세요.  \n",
    "# hint : .으로 split하여 마지막 요소를 출력\n",
    "# 실행결과 : kr\n",
    "url = \"http://sharebook.kr\"\n"
   ]
  },
  {
   "cell_type": "code",
   "execution_count": null,
   "metadata": {},
   "outputs": [],
   "source": [
    "#[15번] 다음 코드를 for문으로 작성\n",
    "'''\n",
    "변수 = 10\n",
    "print(변수)\n",
    "변수 = 20\n",
    "print(변수)\n",
    "변수 = 30\n",
    "print(변수)\n",
    "'''"
   ]
  },
  {
   "cell_type": "code",
   "execution_count": 12,
   "metadata": {},
   "outputs": [
    {
     "output_type": "stream",
     "name": "stdout",
     "text": [
      "d\nc\np\n"
     ]
    }
   ],
   "source": [
    "#[16번] or문을 사용해서 동물 이름의 첫 글자만 출력하라.\n",
    "aimal_list = ['dog', 'cat', 'parrot']\n",
    "for e in aimal_list :\n",
    "    a = e\n",
    "    e = e[0]\n",
    "    print(e)"
   ]
  },
  {
   "cell_type": "code",
   "execution_count": null,
   "metadata": {},
   "outputs": [],
   "source": [
    "#[17번] for문을 사용해서 리스트의 음수를 출력하라.\n",
    "num_list = [3, -20, -3, 44]\n"
   ]
  },
  {
   "cell_type": "code",
   "execution_count": null,
   "metadata": {},
   "outputs": [],
   "source": [
    "#[18번] for문을 사용해서 3의 배수만을 출력하라.\n",
    "num_list = [3, 100, 23, 44]"
   ]
  },
  {
   "cell_type": "code",
   "execution_count": 13,
   "metadata": {},
   "outputs": [
    {
     "output_type": "error",
     "ename": "NameError",
     "evalue": "name 'upper' is not defined",
     "traceback": [
      "\u001b[1;31m---------------------------------------------------------------------------\u001b[0m",
      "\u001b[1;31mNameError\u001b[0m                                 Traceback (most recent call last)",
      "\u001b[1;32m<ipython-input-13-21375a5a626b>\u001b[0m in \u001b[0;36m<module>\u001b[1;34m\u001b[0m\n\u001b[0;32m      2\u001b[0m \u001b[0mchar_list\u001b[0m \u001b[1;33m=\u001b[0m \u001b[1;33m[\u001b[0m\u001b[1;34m\"A\"\u001b[0m\u001b[1;33m,\u001b[0m \u001b[1;34m\"b\"\u001b[0m\u001b[1;33m,\u001b[0m \u001b[1;34m\"c\"\u001b[0m\u001b[1;33m,\u001b[0m \u001b[1;34m\"D\"\u001b[0m\u001b[1;33m]\u001b[0m\u001b[1;33m\u001b[0m\u001b[1;33m\u001b[0m\u001b[0m\n\u001b[0;32m      3\u001b[0m \u001b[1;32mfor\u001b[0m \u001b[0me\u001b[0m \u001b[1;32min\u001b[0m \u001b[0mchar_list\u001b[0m \u001b[1;33m:\u001b[0m\u001b[1;33m\u001b[0m\u001b[1;33m\u001b[0m\u001b[0m\n\u001b[1;32m----> 4\u001b[1;33m     \u001b[1;32mif\u001b[0m \u001b[0me\u001b[0m \u001b[1;33m==\u001b[0m \u001b[0mupper\u001b[0m\u001b[1;33m(\u001b[0m\u001b[0ma\u001b[0m\u001b[1;33m)\u001b[0m\u001b[1;33m:\u001b[0m\u001b[1;33m\u001b[0m\u001b[1;33m\u001b[0m\u001b[0m\n\u001b[0m\u001b[0;32m      5\u001b[0m         \u001b[1;32mcontinue\u001b[0m\u001b[1;33m\u001b[0m\u001b[1;33m\u001b[0m\u001b[0m\n\u001b[0;32m      6\u001b[0m     \u001b[1;32melse\u001b[0m \u001b[1;33m:\u001b[0m\u001b[1;33m\u001b[0m\u001b[1;33m\u001b[0m\u001b[0m\n",
      "\u001b[1;31mNameError\u001b[0m: name 'upper' is not defined"
     ]
    }
   ],
   "source": [
    "#[19번] 리스트에서 대문자만 화면에 출력하라.\n",
    "char_list = [\"A\", \"b\", \"c\", \"D\"]\n"
   ]
  },
  {
   "cell_type": "code",
   "execution_count": null,
   "metadata": {},
   "outputs": [],
   "source": []
  }
 ]
}