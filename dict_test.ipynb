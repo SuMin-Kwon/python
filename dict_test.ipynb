{
 "metadata": {
  "language_info": {
   "codemirror_mode": {
    "name": "ipython",
    "version": 3
   },
   "file_extension": ".py",
   "mimetype": "text/x-python",
   "name": "python",
   "nbconvert_exporter": "python",
   "pygments_lexer": "ipython3",
   "version": "3.9.5"
  },
  "orig_nbformat": 2,
  "kernelspec": {
   "name": "python395jvsc74a57bd00ac516125b3ee16d4eaa41f008fade7bad50b808bd1b6d74d2e8ae0015ba9066",
   "display_name": "Python 3.9.5 64-bit"
  },
  "metadata": {
   "interpreter": {
    "hash": "0ac516125b3ee16d4eaa41f008fade7bad50b808bd1b6d74d2e8ae0015ba9066"
   }
  }
 },
 "nbformat": 4,
 "nbformat_minor": 2,
 "cells": [
  {
   "cell_type": "code",
   "execution_count": 1,
   "metadata": {},
   "outputs": [
    {
     "output_type": "stream",
     "name": "stdout",
     "text": [
      "no 100\nname 홍길동\nmail a@a.a\nhobby 게임\n"
     ]
    }
   ],
   "source": [
    "emp1 = {\"no\":\"100\",\"name\":\"홍길동\",\"mail\":\"a@a.a\"}\n",
    "emp1[\"hobby\"] = \"게임\"\n",
    "for key, element in emp1.items():\n",
    "    print(key,element)"
   ]
  },
  {
   "cell_type": "code",
   "execution_count": 3,
   "metadata": {},
   "outputs": [
    {
     "output_type": "stream",
     "name": "stdout",
     "text": [
      "{'no': '100', 'name': '홍길동', 'mail': 'a@a.a', 'hobby': ['게임', '독서']}\n"
     ]
    }
   ],
   "source": [
    "emp1[\"hobby\"] = ['게임','독서']\n",
    "print(emp1)"
   ]
  },
  {
   "cell_type": "code",
   "execution_count": 5,
   "metadata": {},
   "outputs": [
    {
     "output_type": "stream",
     "name": "stdout",
     "text": [
      "게임\n독서\n"
     ]
    }
   ],
   "source": [
    "# 첫번째 취미 출력\n",
    "print(emp1[\"hobby\"][0])\n",
    "print(emp1.get(\"hobby\")[1])"
   ]
  },
  {
   "cell_type": "code",
   "execution_count": 8,
   "metadata": {},
   "outputs": [
    {
     "output_type": "stream",
     "name": "stdout",
     "text": [
      "True\nFalse\n"
     ]
    }
   ],
   "source": [
    "print(\"hobby\" in emp1 )\n",
    "print(\"addr\" in emp1 )"
   ]
  },
  {
   "cell_type": "code",
   "execution_count": 11,
   "metadata": {},
   "outputs": [
    {
     "output_type": "stream",
     "name": "stdout",
     "text": [
      "no:100\nname:홍길동\nmail:a@a.a\nhobby:['게임', '독서']\n"
     ]
    }
   ],
   "source": [
    "for key in emp1 :\n",
    "    print(f\"{key}:{emp1[key]}\")   # 최신 버전에서 이런식으로 사용가능함 f쓰고 format 쓰듯이 사용가능"
   ]
  },
  {
   "cell_type": "code",
   "execution_count": 16,
   "metadata": {},
   "outputs": [
    {
     "output_type": "stream",
     "name": "stdout",
     "text": [
      "a@a.a:독서\na@b.2:\na@c.3:\n"
     ]
    }
   ],
   "source": [
    "emp_dic = [ {\"no\":\"100\",\"name\":\"홍길동\",\"mail\":\"a@a.a\",\"hobby\":\"독서\"},\n",
    "        {\"no\":\"101\",\"name\":\"권수민\",\"mail\":\"a@b.2\"},\n",
    "        {\"no\":\"102\",\"name\":\"이나은\",\"mail\":\"a@c.3\"},\n",
    "]\n",
    "# 모든 사원의 이메일만 출력\n",
    "for emp in emp_dic:   # emp = emp_dic 안의 리스트를 반복하는거임 1첫번째 리스트,2번째 리스트, 3번째 리스트\n",
    "    print(emp[\"mail\"], end=\":\")\n",
    "    if  \"hobby\" in emp :\n",
    "        print(emp[\"hobby\"])\n",
    "    else :\n",
    "        print()"
   ]
  },
  {
   "cell_type": "code",
   "execution_count": null,
   "metadata": {},
   "outputs": [],
   "source": []
  }
 ]
}